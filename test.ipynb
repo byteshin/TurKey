{
 "metadata": {
  "language_info": {
   "codemirror_mode": {
    "name": "ipython",
    "version": 3
   },
   "file_extension": ".py",
   "mimetype": "text/x-python",
   "name": "python",
   "nbconvert_exporter": "python",
   "pygments_lexer": "ipython3",
   "version": "3.8.7-final"
  },
  "orig_nbformat": 2,
  "kernelspec": {
   "name": "python3",
   "display_name": "Python 3.8.7 64-bit",
   "metadata": {
    "interpreter": {
     "hash": "2db524e06e9f5f4ffedc911c917cb75e12dbc923643829bf417064a77eb14d37"
    }
   }
  }
 },
 "nbformat": 4,
 "nbformat_minor": 2,
 "cells": [
  {
   "source": [
    "# Test turkey\n",
    "\n",
    "Must run following block first"
   ],
   "cell_type": "markdown",
   "metadata": {}
  },
  {
   "cell_type": "code",
   "execution_count": 1,
   "metadata": {},
   "outputs": [],
   "source": [
    "import ctypes\n",
    "class Turkey:\n",
    "    def __init__(self, path):\n",
    "        self.dll_path = path\n",
    "        self.dll = ctypes.cdll.LoadLibrary(path)\n",
    "    \n",
    "    def kb_input(self, s : str) -> int:\n",
    "        \"\"\"\n",
    "        # Input key arrays\n",
    "        tk.kb_input(\"abcd1234!@#$\")\n",
    "\n",
    "        # Input combination keys\n",
    "        # Show desktop shortcut Windows + d\n",
    "        tk.kb_input(\"<win+d>\")\n",
    "\n",
    "        # Input key pressed down '+' or up '-'\n",
    "        # Input \"ABC\" when caps-lock is off\n",
    "        tk.kb_input(\"<shift+>abc<shift->\")\n",
    "\n",
    "        # Input key pressed using '+' or '-'\n",
    "        # Input \"ABC\" when caps-lock is off\n",
    "        tk.kb_input(\"<shift+>abc<shift->\")\n",
    "\n",
    "        # Some keys must escaped\n",
    "        # Input \"<>\"\n",
    "        tk.kb_input(\"<lt><gt>\")\n",
    "\n",
    "        More details of key name please see [key.md](dos/key.md).\n",
    "        \"\"\"\n",
    "        return self.dll.kb_input(s.encode())\n",
    "    \n",
    "    def move(self, x : int, y : int) -> int:\n",
    "        \"\"\"Move mouse relatively\"\"\"\n",
    "        return self.dll.move(x, y)\n",
    "    \n",
    "    def move_to(self, x : int, y : int) -> int:\n",
    "        \"\"\"Move mouse to a given position\"\"\"\n",
    "        return self.dll.move_to(x, y)\n",
    "    \n",
    "    button_left = 1\n",
    "    button_right = 2\n",
    "    button_middle = 3\n",
    "    button_x1 = 4\n",
    "    button_x2 = 5\n",
    "    def click(self, button : int) -> int:\n",
    "        \"\"\"Click(press down and up) mouse button\"\"\"\n",
    "        return self.dll.click(button)\n",
    "\n",
    "    def press(self, button : int, up : bool) -> int:\n",
    "        \"\"\"Press down or up mouse button\"\"\"\n",
    "        return self.dll.press(button, 1 if up else 0)\n",
    "    \n",
    "    def wheel(self, amount : int) -> int:\n",
    "        \"\"\"mouse wheel\"\"\"\n",
    "        return self.dll.wheel(amount)\n",
    "    \n",
    "    def hwheel(self, amount : int) -> int:\n",
    "        \"\"\"mouse horizontal wheel\"\"\"\n",
    "        return self.dll.wheel(amount)\n",
    "        return self.dll.hwheel(amount)\n",
    "    \n",
    "    def hotkey_register(self, hotkey : str) -> int:\n",
    "        \"\"\"\n",
    "        hotkey_id = tk.hotkey_register(\"<ctrl+alt+q>\")\n",
    "        if hotkey_id <= 0:\n",
    "            raise \"Error\"\n",
    "        while True:\n",
    "            waited = tk.hotkey_wait()\n",
    "            if waited == hotkey_id:\n",
    "                tk.wait_keys_up()\n",
    "                # Do something...\n",
    "                pass\n",
    "        tk.hotkey_unregister(hotkey_id)\n",
    "        \"\"\"\n",
    "        return self.dll.hotkey_register(hotkey.encode())\n",
    "    \n",
    "    def hotkey_unregister(self, hotkey_id : int) -> int:\n",
    "        return self.dll.hotkey_unregister(hotkey_id)\n",
    "    \n",
    "    def hotkey_wait(self) -> int:\n",
    "        return self.dll.hotkey_wait()\n",
    "    \n",
    "    def wait_keys_up(self, s :str) -> int:\n",
    "        return self.dll.wait_keys_up(s.encode())\n",
    "\n",
    "    def window_find(self, cls: str, caption: str) -> int:\n",
    "        return self.dll.window_find(cls.encode(), caption.encode())\n",
    "    \n",
    "    def window_pos(self, hwnd: int) -> (int, int):\n",
    "        x = ctypes.c_int32(0)\n",
    "        y = ctypes.c_int32(0)\n",
    "        ret = self.dll.window_pos(ctypes.c_size_t(hwnd), ctypes.byref(x), ctypes.byref(y))\n",
    "        if ret == 0:\n",
    "            return (x, y)\n",
    "        else:\n",
    "            return None\n",
    "\n",
    "    def window_size(self, hwnd: int) -> (int, int):\n",
    "        x = ctypes.c_int32(0)\n",
    "        y = ctypes.c_int32(0)\n",
    "        ret = self.dll.window_size(ctypes.c_size_t(hwnd), ctypes.byref(x), ctypes.byref(y))\n",
    "        if ret == 0:\n",
    "            return (x, y)\n",
    "        else:\n",
    "            return None\n",
    "\n",
    "tk = Turkey(\"target/debug/turkey.dll\")"
   ]
  },
  {
   "cell_type": "code",
   "execution_count": 4,
   "metadata": {},
   "outputs": [
    {
     "output_type": "execute_result",
     "data": {
      "text/plain": [
       "(c_long(589), c_long(468))"
      ]
     },
     "metadata": {},
     "execution_count": 4
    }
   ],
   "source": [
    "hwnd = tk.window_find(\"\", \"中文.log - Notepad\")\n",
    "tk.window_size(hwnd)"
   ]
  },
  {
   "source": [
    "## Test hotkey"
   ],
   "cell_type": "markdown",
   "metadata": {}
  },
  {
   "cell_type": "code",
   "execution_count": 3,
   "metadata": {},
   "outputs": [
    {
     "output_type": "stream",
     "name": "stdout",
     "text": [
      "0\n"
     ]
    }
   ],
   "source": [
    "ret = tk.hotkey_register(\"<ctrl+alt+q>\")\n",
    "print(ret)"
   ]
  },
  {
   "cell_type": "code",
   "execution_count": 4,
   "metadata": {},
   "outputs": [
    {
     "output_type": "stream",
     "name": "stdout",
     "text": [
      "49489\n"
     ]
    }
   ],
   "source": [
    "wait_ret = tk.hotkey_wait()\n",
    "print(wait_ret)"
   ]
  },
  {
   "cell_type": "code",
   "execution_count": 5,
   "metadata": {},
   "outputs": [
    {
     "output_type": "execute_result",
     "data": {
      "text/plain": [
       "1"
      ]
     },
     "metadata": {},
     "execution_count": 5
    }
   ],
   "source": [
    "tk.hotkey_unregister(ret)"
   ]
  },
  {
   "cell_type": "code",
   "execution_count": 7,
   "metadata": {},
   "outputs": [
    {
     "output_type": "execute_result",
     "data": {
      "text/plain": [
       "0"
      ]
     },
     "metadata": {},
     "execution_count": 7
    }
   ],
   "source": [
    "tk.wait_keys_up(\"\")"
   ]
  },
  {
   "source": [
    "## Test keyboard"
   ],
   "cell_type": "markdown",
   "metadata": {}
  },
  {
   "cell_type": "code",
   "execution_count": 2,
   "metadata": {},
   "outputs": [
    {
     "output_type": "execute_result",
     "data": {
      "text/plain": [
       "0"
      ]
     },
     "metadata": {},
     "execution_count": 2
    }
   ],
   "source": [
    "tk.kb_input(\"<win+d>\")"
   ]
  },
  {
   "source": [
    "## Test Mouse"
   ],
   "cell_type": "markdown",
   "metadata": {}
  },
  {
   "cell_type": "code",
   "execution_count": 3,
   "metadata": {},
   "outputs": [
    {
     "output_type": "execute_result",
     "data": {
      "text/plain": [
       "0"
      ]
     },
     "metadata": {},
     "execution_count": 3
    }
   ],
   "source": [
    "tk.move(100, 100)"
   ]
  },
  {
   "cell_type": "code",
   "execution_count": 5,
   "metadata": {},
   "outputs": [
    {
     "output_type": "execute_result",
     "data": {
      "text/plain": [
       "0"
      ]
     },
     "metadata": {},
     "execution_count": 5
    }
   ],
   "source": [
    "tk.move_to(100, 100)"
   ]
  },
  {
   "cell_type": "code",
   "execution_count": 16,
   "metadata": {},
   "outputs": [
    {
     "output_type": "execute_result",
     "data": {
      "text/plain": [
       "0"
      ]
     },
     "metadata": {},
     "execution_count": 16
    }
   ],
   "source": [
    "tk.click(Turkey.button_right)"
   ]
  },
  {
   "cell_type": "code",
   "execution_count": null,
   "metadata": {},
   "outputs": [],
   "source": []
  }
 ]
}